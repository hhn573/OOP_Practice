{
 "cells": [
  {
   "cell_type": "markdown",
   "metadata": {},
   "source": [
    "# **Homework: Chapter 1 - Introduction to Python**"
   ]
  },
  {
   "cell_type": "code",
   "execution_count": null,
   "metadata": {
    "vscode": {
     "languageId": "plaintext"
    }
   },
   "outputs": [],
   "source": []
  },
  {
   "cell_type": "markdown",
   "metadata": {},
   "source": [
    "## **1. Introduction to Programming**\n",
    "- What is Python, and why is it widely used?\n",
    "Python is a high-level, interpreted, object-oriented, and general-purpose programming language. it was created by Guido van Rossum in 1991 with the goal of making progamming easoer to read and write.\n",
    "\n",
    "    Python is widely used because:\n",
    "    * It's simple and easy to learn syntax. \n",
    "        + Python's syntax is close to natural language, making it easy for beginners to learn quickly \n",
    "        + The code is concise, readable and easy to maintain\n",
    "\n",
    "    * Rich library ecosystem: Python has a vast ecosystem of librabries serving various field, such as: \n",
    "         + Data analysis: Panda, NumPy, Matplotlib \n",
    "         + Artificial Inteligence & Machine Learning: TecsorFlow,PyTorch,Scikit-learn\n",
    "         + Web development: Flask, Django\n",
    "         + Automation: Selenium, BeautifulSoup \n",
    "\n",
    "    * Cross-platform & open-source \n",
    "        + Python runs on Windows, macOS, and Linux without requiring code modifications \n",
    "        + It's open-source, free to use and has strong community support.\n",
    "\n",
    "    * Versatile & muli-purpose programming: \n",
    "        + Python is used across various fields, including: Data science, data analysis, Web application development, Process automation, Financial systems & banking , Artificial Intelligence \n",
    "\n",
    "    * Strong support for data analysis & finance \n",
    "        + In banking & finance, Python helps process and analyze data efficiently, generate financial reports and predict market trends. \n",
    "\n",
    "- List some key components of the Python ecosystem.\n",
    "    * Core Components \n",
    "        + Python Interpreter: The engine that executes Python code (e.g.CPython, PyPy, Jython )\n",
    "        + Standard Library: A collection of built-in modules providing functionalities like file handling, networking, regular expressions, and more.\n",
    "    * Package Management & Environments\n",
    "        + pip: Python's default package manager for installing third-party libraries.\n",
    "        + conda: A package and environment manager, widely used in data science.\n",
    "        + virtualenv & venv: Tools to create isolated Python environments.\n",
    "\n",
    "    * Libraries & Frameworks\n",
    "        + Data science & Machine Learning: NumPy, Pandas, Matplotlib & Seaborn , Scikit-learn, TensorFlow & PyTorch\n",
    "        + Web development: Django, Flask, FastAPI\n",
    "        + Automation & Web Scraping: Selenium, BeautifilSoup & Scrapy \n",
    "        + Finance & Business Analysis of financial data \n",
    "        + Cybersecurity & Networking: Scapy, Requests\n",
    "    * Development & Productivity Tools \n",
    "        + Jupyter Notebook: An interactive environment for writing and sharing Python code.\n",
    "        + PyCharm, VS Code: Popular Python IDEs for development.\n",
    "        + pytest & unittest: Testing frameworks for Python applications.\n",
    "    * Cloud & Big data \n",
    "        + Dask: Parallel computing for large datasets.\n",
    "        + Apache Spark (PySpark): Big data processing.\n",
    "        + AWS Lambda, Google Cloud Functions: Serverless computing with Python.\n",
    "\n",
    "- Explain the purpose of Jupyter Notebook.\n",
    "    Jupyter Notebook is an open-source web-based interactive environment that allows users to create and share documents containing live code, equations, visualizations, and narrative text. It is widely used in data science, machine learning, and scientific computing.\n",
    "\n",
    "    Key purpose of Jupyter Notebook \n",
    "    * Interactive Computing: \n",
    "        + Jupyter supports live execution of Python code (and other languages) in a notebook-style interface.\n",
    "        +  Code can be executed in cells, allowing for step-by-step debugging and exploration.\n",
    "    * Data analysis & Visualization \n",
    "        + Supports libraries like Pandas, Matplotlib, Seaborn, Plotly for data manipulation and visualization.\n",
    "        + Enables real-time visualization updates without needing a separate script.\n",
    "    * Documentation & Explanation\n",
    "        + Uses Markdown to write text, add headings, format content, and include images.\n",
    "        + Helps create well-structured reports, research papers, and interactive tutorials.\n",
    "    * Reproducible Research\n",
    "        + Combines code, text, and output in a single document, making research more reproducible.\n",
    "        + Useful for sharing findings with collaborators or publishing results\n",
    "    * Machine Learning & AI development \n",
    "        + Integrates seamlessly with ML frameworks like TensorFlow, PyTorch, and Scikit-learn.\n",
    "        + Supports experimentation and hyperparameter tuning in an interactive manner.\n",
    "    * Education & Teaching\n",
    "        + Used in universities and online courses (like Coursera, edX) for coding lessons.\n",
    "        + Provides an easy-to-use interface for students to learn programming and data science.\n"
   ]
  },
  {
   "cell_type": "markdown",
   "metadata": {},
   "source": [
    "## **2. Python Applications in Finance**\n",
    "- How is Python used in the finance industry?\n",
    "    * Python is widely used in the finance industry for data analysis, algorithmic trading, risk management, automation, and financial forecasting. Its flexibility, ease of use, and powerful libraries make it an essential tool for banks, hedge funds, and financial analysts.\n",
    "- Give an example of a financial application that uses Python. Provide real world example\n",
    "    * One real-world example is JPMorgan Chase, one of the largest investment banks, which uses Python extensively for data analytics and risk management.\n",
    "        + They developed Athena, a risk management platform, primarily using Python.\n",
    "        + Athena helps traders and risk managers analyze financial risks in real-time and optimize investment decisions.\n",
    "    * Another example is Robinhood, a commission-free stock trading app, which leverages Python for backend financial operations and real-time trade execution.\n",
    "- What are some future trends of Python in finance? Provide real world example\n",
    "    * AI-Powered Trading & Robo- Advisors \n",
    "        + Python is driving the growth of AI-based trading bots and robo-advisors that automatically manage investment portfolios.\n",
    "        + Example: Betterment and Wealthfront use Python-based machine learning models to recommend personalized investment strategies to users.\n",
    "    * Blockchain & Cryptocurrencies\n",
    "        + Python is increasingly being used in blockchain applications for cryptocurrency trading and smart contract development.\n",
    "        + Example: Binance and Coinbase use Python for automating crypto transactions and analyzing blockchain data.\n",
    "    * Quantum Computing in Finance\n",
    "        + Python is being integrated with quantum computing for advanced risk analysis and portfolio optimization.\n",
    "        + Example: IBM Quantum and Goldman Sachs are exploring quantum finance models using Python-based frameworks like Qiskit.\n",
    "    * Automated Compliance & Fraud Detection\n",
    "        + Python will continue to play a crucial role in fraud detection, regulatory compliance, and financial crime prevention using AI and big data.\n",
    "        + Example: PayPal uses Python-based machine learning algorithms to detect fraudulent transactions in real-time."
   ]
  },
  {
   "cell_type": "markdown",
   "metadata": {},
   "source": [
    "## **3. Variable assignment and modification**\n",
    "### 3.1 Basic variable assignment\n",
    " Create and print the following variables:\n",
    "\n",
    "* A string variable \"company\" with the value \"VinGroup\"\n",
    "\n",
    "Company = 'VinGroup' \n",
    "\n",
    "Print (Company)\n",
    "\n",
    "* An integer variable \"stock_price\" with the value 150\n",
    "stock_price = 150 \n",
    "\n",
    "Print (StockPrice)\n",
    "\n",
    "* A float variable \"dividend_yield\" with the value 0.02\n",
    "\n",
    "dividend_yield = 0.02 \n",
    "\n",
    "Print (dividend_yield)\n",
    "\n",
    "### 3.2. Changing variable value\n",
    "* Update \"stock_price\" by adding 10.\n",
    "\n",
    "stock_price = 160 \n",
    "Print (stock_price)\n",
    "\n",
    "* Change company to \"Tap doan Hoa Phat\"\n",
    "company = 'Tap doan Hoa Phat' \n",
    "Print (Tap doan Hoa Phat)\n",
    "\n",
    "* Multiply \"dividend_yield\" by 2 and update its value.\n",
    "\n",
    "dividend_yield = dividend_yield * 2\n",
    "* Print the updated values of all variables.\n",
    "\n",
    "Print (stock_price)\n",
    "Print (dividend_yield)\n",
    "Print (company)\n",
    "\n",
    "Print (stock_price, dividend_yield, company)"
   ]
  },
  {
   "cell_type": "code",
   "execution_count": null,
   "metadata": {
    "vscode": {
     "languageId": "plaintext"
    }
   },
   "outputs": [],
   "source": []
  },
  {
   "cell_type": "markdown",
   "metadata": {},
   "source": [
    "## **4. Data Types and Expressions**\n",
    "- Identify the data types of the following values:\n",
    "   42, 3.14, True, \"Hello, Python!\"\n",
    "\n",
    "- Declare a variable to store a stock price and assign it a float value.\n",
    "- Write Python code to convert an integer to a float and vice versa."
   ]
  },
  {
   "cell_type": "code",
   "execution_count": null,
   "metadata": {},
   "outputs": [],
   "source": [
    "type(42)"
   ]
  },
  {
   "cell_type": "markdown",
   "metadata": {},
   "source": [
    "## **5. Type Conversion**\n",
    "- Convert the following values and explain the output:\n",
    "  ```python\n",
    "  int(3.9)\n",
    "  float(\"100\")\n",
    "  str(42)\n",
    "  bool(0)\n",
    "  ```"
   ]
  },
  {
   "cell_type": "markdown",
   "metadata": {},
   "source": [
    "## **6. Numeric Operations**\n",
    "- Solve the following expressions and explain the results:\n",
    "  ```python\n",
    "  10 + 5 * 2\n",
    "  (10 - 2) / 4\n",
    "  2 ** 3\n",
    "  15 // 4\n",
    "  ```"
   ]
  },
  {
   "cell_type": "markdown",
   "metadata": {},
   "source": [
    "## **7. String Operations**\n",
    "- Perform the following string manipulations:\n",
    "  ```python\n",
    "  \"Finance\" + \"Python\"\n",
    "  \"Stock Price\".upper()\n",
    "  \"  Data Analysis  \".strip()\n",
    "  \"Python\"[1:4]\n",
    "  ```\n",
    "- Write a Python program to replace \"apple\" with \"orange\" in the string: \"I like apple\"."
   ]
  },
  {
   "cell_type": "markdown",
   "metadata": {},
   "source": [
    "## **8. Comparison and Logical Operators**\n",
    "- Evaluate the following expressions:\n",
    "  ```python\n",
    "  10 > 5 and 5 < 3\n",
    "  8 == 8 or 2 > 5\n",
    "  not (10 <= 20)\n",
    "  \"Python\" != \"Finance\"\n",
    "  ```"
   ]
  },
  {
   "cell_type": "markdown",
   "metadata": {},
   "source": [
    "## **9. Operators**\n",
    "- Evaluate the following expressions:\n",
    "  ```python\n",
    "  10 + 3 * 2\n",
    "  (10 + 3) * 2\n",
    "  10 % 3\n",
    "  \"Python\" + \"Finance\"\n",
    "  ```\n",
    "- What is the difference between `==` and `=` in Python?"
   ]
  },
  {
   "cell_type": "markdown",
   "metadata": {},
   "source": [
    "## **10. Functions**\n",
    "- Define a function that calculates the present value (PV) using the formula:\n",
    "  ```python\n",
    "  PV = FV / (1 + r) ** n\n",
    "  ```\n",
    "  where:\n",
    "  - `FV` is the future value\n",
    "  - `r` is the discount rate\n",
    "  - `n` is the number of periods\n",
    "\n",
    "  - Test the function wih your own example (provide arguments to your function)\n",
    "  \n",
    "- Use built-in functions to:\n",
    "  - Find the maximum of three stock prices.\n",
    "  - Convert a string to an integer.\n",
    "  - Test the function wih your own example (provide arguments to your function)\n",
    "\n",
    "- Explain the difference between parameters and arguments with an example.\n",
    "- Call the following functions and explain the outputs:\n",
    "  ```python\n",
    "  len(\"Finance\")\n",
    "  round(3.14159, 2)\n",
    "  abs(-50)\n",
    "  ```\n",
    "- Write a function `greet(name)` that prints \"Hello, [name]!\" when called.\n",
    "Test the function wih your own example (provide arguments to your function)"
   ]
  },
  {
   "cell_type": "markdown",
   "metadata": {},
   "source": [
    "---\n",
    "### **Submission Instructions:**\n",
    "- Submit your answers as a `.py` file or a Jupyter Notebook (`.ipynb`).\n",
    "- Name your file as follows: Student ID_Full name_HW Chapter 1\n",
    "- Ensure that your code runs without errors.\n",
    "- Include comments to explain your solutions."
   ]
  },
  {
   "cell_type": "markdown",
   "metadata": {},
   "source": [
    "**Happy Coding!**"
   ]
  }
 ],
 "metadata": {
  "language_info": {
   "name": "python"
  }
 },
 "nbformat": 4,
 "nbformat_minor": 2
}
